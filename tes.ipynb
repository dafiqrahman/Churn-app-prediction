{
 "cells": [
  {
   "cell_type": "code",
   "execution_count": 2,
   "metadata": {},
   "outputs": [],
   "source": [
    "import pickle\n",
    "import shap\n",
    "with open('model/proc.pkl', 'rb') as b:\n",
    "    proc = pickle.load(b)\n",
    "\n",
    "with open('model/explainer.pkl', 'rb') as e:\n",
    "    explainer_sh = pickle.load(e)\n"
   ]
  },
  {
   "cell_type": "code",
   "execution_count": 3,
   "metadata": {},
   "outputs": [
    {
     "data": {
      "text/plain": [
       "<module 'shap.plots' from 'F:\\\\mc\\\\envs\\\\finproc_ND\\\\lib\\\\site-packages\\\\shap\\\\plots\\\\__init__.py'>"
      ]
     },
     "execution_count": 3,
     "metadata": {},
     "output_type": "execute_result"
    }
   ],
   "source": [
    "shap.plots"
   ]
  }
 ],
 "metadata": {
  "interpreter": {
   "hash": "c4cf3502b456b423c32b44a49e29bcf6d26c6a0538cacfcebe8da7ed9fcc92e5"
  },
  "kernelspec": {
   "display_name": "Python 3.9.7 ('DS')",
   "language": "python",
   "name": "python3"
  },
  "language_info": {
   "codemirror_mode": {
    "name": "ipython",
    "version": 3
   },
   "file_extension": ".py",
   "mimetype": "text/x-python",
   "name": "python",
   "nbconvert_exporter": "python",
   "pygments_lexer": "ipython3",
   "version": "3.7.0"
  },
  "orig_nbformat": 4
 },
 "nbformat": 4,
 "nbformat_minor": 2
}
